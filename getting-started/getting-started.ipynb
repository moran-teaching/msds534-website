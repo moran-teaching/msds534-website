{
 "cells": [
  {
   "cell_type": "markdown",
   "metadata": {},
   "source": [
    "# Getting started"
   ]
  },
  {
   "cell_type": "markdown",
   "metadata": {},
   "source": [
    "## Anaconda Installation \n",
    "\n",
    "We will use Python via the Anaconda distribution.\n",
    "\n",
    "Download Anaconda [here](https://www.anaconda.com/download).\n",
    "\n",
    ":::{.callout-note}\n",
    "There are a variety of different Python distributions; for statistics and machine learning, we recommend Anaconda as it comes with many useful packages pre-installed. \n",
    "\n",
    "(It is also a good idea NOT to use your computer's pre-installed Python - you don't want to accidentally change any system settings!)\n",
    ":::\n",
    "\n",
    "Anaconda requires a few GBs of storage - a more lightweight version is Miniconda, which you can download [here](http://conda.pydata.org/miniconda.html)."
   ]
  },
  {
   "cell_type": "markdown",
   "metadata": {},
   "source": [
    "## Managing packages\n",
    "\n",
    "There are many open source Python packages for statistics and machine learning.\n",
    "\n",
    "To download packages, two popular package managers are **Conda** and **Pip**.  Both Conda and Pip come with the Anaconda distribution.\n",
    "\n",
    "**Conda** is a general-purpose package management system, designed to build and manage software of any type from any language. This means conda can take advantage of many non-python packages (like BLAS, for linear algebra operations).\n",
    "\n",
    "**Pip** is a package manager for python. You may see people using pip with environments using [virtualenv](https://virtualenv.pypa.io/en/stable/) or [venv](https://docs.python.org/3/library/venv.html).\n",
    "\n",
    "We recommend:\n",
    "\n",
    "- use a [conda environment](#environments)\n",
    "- within this environment, use conda to install base packages such as `pandas` and `numpy`\n",
    "- if a package is not available via conda, then use pip\n",
    "\n",
    "See [here](https://jakevdp.github.io/blog/2016/08/25/conda-myths-and-misconceptions/) for some conda vs pip misconceptions, and why conda is helpful.\n"
   ]
  },
  {
   "cell_type": "markdown",
   "metadata": {},
   "source": [
    "## Environments\n",
    "\n",
    "### About\n",
    "\n",
    "It is good coding practice to use virtual environments with Python. From [this blog](https://www.dataquest.io/blog/a-complete-guide-to-python-virtual-environments/):\n",
    "\n",
    "> A Python virtual environment consists of two essential components: the Python interpreter that the virtual environment runs on and a folder containing third-party libraries installed in the virtual environment. These virtual environments are isolated from the other virtual environments, which means any changes on dependencies installed in a virtual environment don’t affect the dependencies of the other virtual environments or the system-wide libraries. Thus, we can create multiple virtual environments with different Python versions, plus different libraries or the same libraries in different versions.\n",
    "\n",
    "![](https://www.dataquest.io/wp-content/uploads/2022/01/python-virtual-envs1.webp)\n"
   ]
  },
  {
   "cell_type": "markdown",
   "metadata": {},
   "source": [
    "### Creating an environment for MSDS-534\n",
    "\n",
    "We recommend creating a virtual environment for your MSDS-534 coding projects. This way, you can have an environment with all the necessary packages and you can easily keep track of what versions of the packages you used.\n",
    "\n",
    "1. Open Terminal (macOS) or a shell \n",
    "2. Create an environment called `msds534` using Conda with the command:\n",
    "   ```conda create --name msds534```\n",
    "3. To install packages in your environment, first activate your environment:\n",
    "   ```conda activate msds534```\n",
    "4. Then, install the following packages using the command:\n",
    "   ```conda install numpy pandas scikit-learn matplotlib seaborn jupyter ipykernel```\n",
    "5. Install PyTorch by running the appropriate command from [here](https://pytorch.org) (for macOS, the command is: `pip3 install torch torchvision`)\n",
    "6. To exit your environment:\n",
    "   ```conda deactivate```\n",
    "\n",
    "Here is a helpful [cheatsheet](https://conda.io/projects/conda/en/latest/user-guide/tasks/manage-environments.html) for `conda` environment commands.\n",
    "\n",
    "For more details about the shell / bash, here is a helpful [resource](https://missing.csail.mit.edu/2020/course-shell/).\n"
   ]
  },
  {
   "cell_type": "markdown",
   "metadata": {},
   "source": [
    "## VSCode\n",
    "\n",
    "There are a number of Python IDEs (integrated development environments). In class, we will be using VSCode (download [here](https://code.visualstudio.com)).\n",
    "\n",
    "1. Download `lecture-1.ipynb` [here] and open it in VSCode. \n",
    "2. To use your `msds534` environment, on the top right hand corner, click \"Select Kernel\" > \"Python Environments\" > msds534. If it prompts you to install `ipykernel`, follow the prompts to install it. \n",
    "\n",
    "Jupyter notebooks (`.ipynb` files) are useful to combine code cells with text (as [markdown](https://www.markdownguide.org/basic-syntax/) cells).\n",
    "\n",
    "VSCode also has a Python interactive window [(details here)](https://code.visualstudio.com/docs/python/jupyter-support-py)."
   ]
  },
  {
   "cell_type": "markdown",
   "metadata": {},
   "source": [
    "## Learning Python\n",
    "\n",
    "In this class, we will assume some familiarity with:\n",
    "\n",
    "- [Numpy](https://moran-teaching.github.io/msds597-website/lec-1/lecture-1.html)\n",
    "- [Pandas](https://moran-teaching.github.io/msds597-website/lec-2/lecture-2.html)\n",
    "- [Object-oriented programming](https://moran-teaching.github.io/msds597-website/lec-10/lecture-10.html#interlude-object-oriented-programming)"
   ]
  }
 ],
 "metadata": {
  "kernelspec": {
   "display_name": "msds597",
   "language": "python",
   "name": "python3"
  },
  "language_info": {
   "codemirror_mode": {
    "name": "ipython",
    "version": 3
   },
   "file_extension": ".py",
   "mimetype": "text/x-python",
   "name": "python",
   "nbconvert_exporter": "python",
   "pygments_lexer": "ipython3",
   "version": "3.12.8"
  }
 },
 "nbformat": 4,
 "nbformat_minor": 2
}
