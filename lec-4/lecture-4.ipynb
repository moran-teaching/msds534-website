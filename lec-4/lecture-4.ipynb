{
 "cells": [
  {
   "cell_type": "raw",
   "metadata": {
    "vscode": {
     "languageId": "raw"
    }
   },
   "source": [
    "---\n",
    "title: Lecture 4\n",
    "execute:\n",
    "    error: true\n",
    "    warnings: false\n",
    "format:\n",
    "    html:\n",
    "        toc: true\n",
    "        html-math-method: katex\n",
    "        css: styles.css\n",
    "---"
   ]
  },
  {
   "cell_type": "markdown",
   "metadata": {},
   "source": [
    "## Overview\n",
    "\n",
    "In this lecture, we study:\n",
    "\n",
    "- attention\n",
    "- building a transformer\n",
    "- fine-tuning language models\n",
    "\n",
    "#### References\n",
    "\n",
    "Note: much of this code is from Andrej Karpathy's excellent tutorials on building GPT from scratch: \n",
    "\n",
    "- [Youtube link](https://www.youtube.com/watch?v=kCc8FmEb1nY&t=6253s)\n",
    "- [Google Collab notebook link](https://colab.research.google.com/drive/1JMLa53HDuA-i7ZBmqV7ZnA3c_fvtXnx-?usp=sharing#scrollTo=O6medjfRsLD9)"
   ]
  },
  {
   "cell_type": "markdown",
   "metadata": {},
   "source": [
    "## Attention"
   ]
  },
  {
   "cell_type": "code",
   "execution_count": 18,
   "metadata": {},
   "outputs": [
    {
     "data": {
      "text/plain": [
       "<torch._C.Generator at 0x1170f8470>"
      ]
     },
     "execution_count": 18,
     "metadata": {},
     "output_type": "execute_result"
    }
   ],
   "source": [
    "import torch\n",
    "import torch.nn as nn\n",
    "from torch.nn import functional as F\n",
    "torch.manual_seed(1337)"
   ]
  },
  {
   "cell_type": "markdown",
   "metadata": {},
   "source": [
    "We are going to look at the Tiny Shakespeare dataset, which contains all the work of Shakespeare in a `.txt` file."
   ]
  },
  {
   "cell_type": "code",
   "execution_count": null,
   "metadata": {},
   "outputs": [],
   "source": [
    "# read it in to inspect it\n",
    "with open('data/tinyshakespeare.txt', 'r', encoding='utf-8') as f:\n",
    "    text = f.read()"
   ]
  },
  {
   "cell_type": "code",
   "execution_count": 20,
   "metadata": {},
   "outputs": [
    {
     "name": "stdout",
     "output_type": "stream",
     "text": [
      "length of dataset in characters:  1115393\n"
     ]
    }
   ],
   "source": [
    "print(\"length of dataset in characters: \", len(text))"
   ]
  },
  {
   "cell_type": "code",
   "execution_count": 21,
   "metadata": {},
   "outputs": [
    {
     "name": "stdout",
     "output_type": "stream",
     "text": [
      "First Citizen:\n",
      "Before we proceed any further, hear me speak.\n",
      "\n",
      "All:\n",
      "Speak, speak.\n",
      "\n",
      "First Citizen:\n",
      "You are all resolved rather to die than to famish?\n",
      "\n",
      "All:\n",
      "Resolved. resolved.\n",
      "\n",
      "First Citizen:\n",
      "First, you know Caius Marcius is chief enemy to the people.\n",
      "\n",
      "All:\n",
      "We know't, we know't.\n",
      "\n",
      "First Citizen:\n",
      "Let us kill him, and we'll have corn at our own price.\n",
      "Is't a verdict?\n",
      "\n",
      "All:\n",
      "No more talking on't; let it \n"
     ]
    }
   ],
   "source": [
    "print(text[:400])"
   ]
  },
  {
   "cell_type": "code",
   "execution_count": 22,
   "metadata": {},
   "outputs": [
    {
     "name": "stdout",
     "output_type": "stream",
     "text": [
      "\n",
      " !$&',-.3:;?ABCDEFGHIJKLMNOPQRSTUVWXYZabcdefghijklmnopqrstuvwxyz\n",
      "65\n"
     ]
    }
   ],
   "source": [
    "# here are all the unique characters that occur in this text\n",
    "chars = sorted(list(set(text)))\n",
    "vocab_size = len(chars)\n",
    "print(''.join(chars))\n",
    "print(vocab_size)"
   ]
  },
  {
   "cell_type": "markdown",
   "metadata": {},
   "source": [
    "How do we represent Tiny Shakespeare as numerical values?"
   ]
  },
  {
   "cell_type": "code",
   "execution_count": 23,
   "metadata": {},
   "outputs": [
    {
     "name": "stdout",
     "output_type": "stream",
     "text": [
      "[46, 43, 50, 50, 53, 1, 58, 46, 43, 56, 43]\n",
      "hello there\n"
     ]
    }
   ],
   "source": [
    "# create a mapping from characters to integers\n",
    "stoi = { ch:i for i,ch in enumerate(chars) } # string to integer\n",
    "itos = { i:ch for i,ch in enumerate(chars) } # integer to string\n",
    "encode = lambda s: [stoi[c] for c in s] # encoder: take a string, output a list of integers\n",
    "decode = lambda l: ''.join([itos[i] for i in l]) # decoder: take a list of integers, output a string\n",
    "\n",
    "print(encode(\"hello there\"))\n",
    "print(decode(encode(\"hello there\")))"
   ]
  },
  {
   "cell_type": "code",
   "execution_count": 24,
   "metadata": {},
   "outputs": [
    {
     "name": "stdout",
     "output_type": "stream",
     "text": [
      "torch.Size([1115393]) torch.float32\n",
      "tensor([18., 47., 56., 57., 58.,  1., 15., 47., 58., 47., 64., 43., 52., 10.,\n",
      "         0., 14., 43., 44., 53., 56., 43.,  1., 61., 43.,  1., 54., 56., 53.,\n",
      "        41., 43., 43., 42.,  1., 39., 52., 63.,  1., 44., 59., 56., 58., 46.,\n",
      "        43., 56.,  6.,  1., 46., 43., 39., 56.,  1., 51., 43.,  1., 57., 54.,\n",
      "        43., 39., 49.,  8.,  0.,  0., 13., 50., 50., 10.,  0., 31., 54., 43.,\n",
      "        39., 49.,  6.,  1., 57., 54., 43., 39., 49.,  8.,  0.,  0., 18., 47.,\n",
      "        56., 57., 58.,  1., 15., 47., 58., 47., 64., 43., 52., 10.,  0., 37.,\n",
      "        53., 59.,  1., 39., 56., 43.,  1., 39., 50., 50.,  1., 56., 43., 57.,\n",
      "        53., 50., 60., 43., 42.,  1., 56., 39., 58., 46., 43., 56.,  1., 58.,\n",
      "        53.,  1., 42., 47., 43.,  1., 58., 46., 39., 52.,  1., 58., 53.,  1.,\n",
      "        44., 39., 51., 47., 57., 46., 12.,  0.,  0., 13., 50., 50., 10.,  0.,\n",
      "        30., 43., 57., 53., 50., 60., 43., 42.,  8.,  1., 56., 43., 57., 53.,\n",
      "        50., 60., 43., 42.,  8.,  0.,  0., 18., 47., 56., 57., 58.,  1., 15.,\n",
      "        47., 58., 47., 64., 43., 52., 10.,  0., 18., 47., 56., 57., 58.,  6.,\n",
      "         1., 63., 53., 59.])\n"
     ]
    }
   ],
   "source": [
    "# let's now encode the entire text dataset and store it into a torch.Tensor\n",
    "import torch \n",
    "data = torch.tensor(encode(text), dtype=torch.float)\n",
    "print(data.shape, data.dtype)\n",
    "print(data[:200]) "
   ]
  },
  {
   "cell_type": "code",
   "execution_count": 25,
   "metadata": {},
   "outputs": [],
   "source": [
    "# Let's now split up the data into train and validation sets\n",
    "n = int(0.9*len(data)) # first 90% will be train, rest val\n",
    "train_data = data[:n]\n",
    "val_data = data[n:]"
   ]
  },
  {
   "cell_type": "code",
   "execution_count": 26,
   "metadata": {},
   "outputs": [
    {
     "data": {
      "text/plain": [
       "tensor([18., 47., 56., 57., 58.,  1., 15., 47., 58.])"
      ]
     },
     "execution_count": 26,
     "metadata": {},
     "output_type": "execute_result"
    }
   ],
   "source": [
    "block_size = 8\n",
    "train_data[:block_size+1]"
   ]
  },
  {
   "cell_type": "markdown",
   "metadata": {},
   "source": [
    "In language modeling, we want to predict the next word in a sequence. For a given block, what are we predicting?"
   ]
  },
  {
   "cell_type": "code",
   "execution_count": 27,
   "metadata": {},
   "outputs": [
    {
     "name": "stdout",
     "output_type": "stream",
     "text": [
      "when input is tensor([18.]) the target: 47.0\n",
      "when input is tensor([18., 47.]) the target: 56.0\n",
      "when input is tensor([18., 47., 56.]) the target: 57.0\n",
      "when input is tensor([18., 47., 56., 57.]) the target: 58.0\n",
      "when input is tensor([18., 47., 56., 57., 58.]) the target: 1.0\n",
      "when input is tensor([18., 47., 56., 57., 58.,  1.]) the target: 15.0\n",
      "when input is tensor([18., 47., 56., 57., 58.,  1., 15.]) the target: 47.0\n",
      "when input is tensor([18., 47., 56., 57., 58.,  1., 15., 47.]) the target: 58.0\n"
     ]
    }
   ],
   "source": [
    "x = train_data[:block_size]\n",
    "y = train_data[1:block_size+1]\n",
    "for t in range(block_size):\n",
    "    context = x[:t+1]\n",
    "    target = y[t]\n",
    "    print(f\"when input is {context} the target: {target}\")"
   ]
  },
  {
   "cell_type": "code",
   "execution_count": 28,
   "metadata": {},
   "outputs": [
    {
     "name": "stdout",
     "output_type": "stream",
     "text": [
      "inputs:\n",
      "torch.Size([4, 8])\n",
      "tensor([[53., 59.,  6.,  1., 58., 56., 47., 40.],\n",
      "        [49., 43., 43., 54.,  1., 47., 58.,  1.],\n",
      "        [13., 52., 45., 43., 50., 53.,  8.,  0.],\n",
      "        [ 1., 39.,  1., 46., 53., 59., 57., 43.]])\n",
      "targets:\n",
      "torch.Size([4, 8])\n",
      "tensor([[59.,  6.,  1., 58., 56., 47., 40., 59.],\n",
      "        [43., 43., 54.,  1., 47., 58.,  1., 58.],\n",
      "        [52., 45., 43., 50., 53.,  8.,  0., 26.],\n",
      "        [39.,  1., 46., 53., 59., 57., 43.,  0.]])\n",
      "----\n",
      "when input is [53.0] the target: 59.0\n",
      "when input is [53.0, 59.0] the target: 6.0\n",
      "when input is [53.0, 59.0, 6.0] the target: 1.0\n",
      "when input is [53.0, 59.0, 6.0, 1.0] the target: 58.0\n",
      "when input is [53.0, 59.0, 6.0, 1.0, 58.0] the target: 56.0\n",
      "when input is [53.0, 59.0, 6.0, 1.0, 58.0, 56.0] the target: 47.0\n",
      "when input is [53.0, 59.0, 6.0, 1.0, 58.0, 56.0, 47.0] the target: 40.0\n",
      "when input is [53.0, 59.0, 6.0, 1.0, 58.0, 56.0, 47.0, 40.0] the target: 59.0\n",
      "when input is [49.0] the target: 43.0\n",
      "when input is [49.0, 43.0] the target: 43.0\n",
      "when input is [49.0, 43.0, 43.0] the target: 54.0\n",
      "when input is [49.0, 43.0, 43.0, 54.0] the target: 1.0\n",
      "when input is [49.0, 43.0, 43.0, 54.0, 1.0] the target: 47.0\n",
      "when input is [49.0, 43.0, 43.0, 54.0, 1.0, 47.0] the target: 58.0\n",
      "when input is [49.0, 43.0, 43.0, 54.0, 1.0, 47.0, 58.0] the target: 1.0\n",
      "when input is [49.0, 43.0, 43.0, 54.0, 1.0, 47.0, 58.0, 1.0] the target: 58.0\n"
     ]
    }
   ],
   "source": [
    "batch_size = 4 # how many independent sequences will we process in parallel?\n",
    "block_size = 8 # what is the maximum context length for predictions?\n",
    "\n",
    "def get_batch(split):\n",
    "    # generate a small batch of data of inputs x and targets y\n",
    "    data = train_data if split == 'train' else val_data\n",
    "    ix = torch.randint(len(data) - block_size, (batch_size,)) # select a random integer from len(data) - block_size\n",
    "    x = torch.stack([data[i:i+block_size] for i in ix])\n",
    "    y = torch.stack([data[i+1:i+block_size+1] for i in ix])\n",
    "    return x, y\n",
    "\n",
    "xb, yb = get_batch('train')\n",
    "print('inputs:')\n",
    "print(xb.shape)\n",
    "print(xb)\n",
    "print('targets:')\n",
    "print(yb.shape)\n",
    "print(yb)\n",
    "\n",
    "print('----')\n",
    "\n",
    "for b in range(2): # batch dimension\n",
    "    for t in range(block_size): # time dimension\n",
    "        context = xb[b, :t+1]\n",
    "        target = yb[b,t]\n",
    "        print(f\"when input is {context.tolist()} the target: {target}\")"
   ]
  },
  {
   "cell_type": "markdown",
   "metadata": {},
   "source": [
    "As discussed in class, attention is the weighted average of previous word embeddings:\n",
    "\n",
    "$h_T = \\sum_{t=1}^T \\alpha_t x_t$\n",
    "\n",
    "Let's first write up the average (instead of weighted average).\n",
    "$h_T = \\frac{1}{T}\\sum_{t=1}^T x_t$"
   ]
  },
  {
   "cell_type": "code",
   "execution_count": 29,
   "metadata": {},
   "outputs": [
    {
     "data": {
      "text/plain": [
       "torch.Size([4, 8, 2])"
      ]
     },
     "execution_count": 29,
     "metadata": {},
     "output_type": "execute_result"
    }
   ],
   "source": [
    "# consider the following toy example:\n",
    "\n",
    "B,T,C = 4,8,2 # batch, time, channels\n",
    "x = torch.randn(B,T,C)\n",
    "x.shape"
   ]
  },
  {
   "cell_type": "code",
   "execution_count": 30,
   "metadata": {},
   "outputs": [],
   "source": [
    "# We want x[b,t] = mean_{i<=t} x[b,i]\n",
    "xrep = torch.zeros((B,T,C)) # this is our new representation, h\n",
    "for b in range(B):\n",
    "    for t in range(T):\n",
    "        xprev = x[b,:t+1] # (t,C)\n",
    "        xrep[b,t] = torch.mean(xprev, axis=0)"
   ]
  },
  {
   "cell_type": "code",
   "execution_count": 31,
   "metadata": {},
   "outputs": [
    {
     "data": {
      "text/plain": [
       "True"
      ]
     },
     "execution_count": 31,
     "metadata": {},
     "output_type": "execute_result"
    }
   ],
   "source": [
    "# version 2: using matrix multiply for a weighted aggregation\n",
    "wei = torch.tril(torch.ones(T, T))\n",
    "wei = wei / wei.sum(1, keepdim=True)\n",
    "xrep2 = wei @ x # (B, T, T) @ (B, T, C) ----> (B, T, C)\n",
    "torch.allclose(xrep, xrep2)"
   ]
  },
  {
   "cell_type": "code",
   "execution_count": 32,
   "metadata": {},
   "outputs": [
    {
     "data": {
      "text/plain": [
       "True"
      ]
     },
     "execution_count": 32,
     "metadata": {},
     "output_type": "execute_result"
    }
   ],
   "source": [
    "# version 3: use Softmax\n",
    "tril = torch.tril(torch.ones(T, T))\n",
    "wei = torch.zeros((T,T))\n",
    "wei = wei.masked_fill(tril == 0, float('-inf'))\n",
    "wei = F.softmax(wei, dim=-1)\n",
    "xrep3 = wei @ x\n",
    "torch.allclose(xrep, xrep3)"
   ]
  },
  {
   "cell_type": "code",
   "execution_count": 33,
   "metadata": {},
   "outputs": [
    {
     "data": {
      "text/plain": [
       "tensor([[1.0000, 0.0000, 0.0000, 0.0000, 0.0000, 0.0000, 0.0000, 0.0000],\n",
       "        [0.5000, 0.5000, 0.0000, 0.0000, 0.0000, 0.0000, 0.0000, 0.0000],\n",
       "        [0.3333, 0.3333, 0.3333, 0.0000, 0.0000, 0.0000, 0.0000, 0.0000],\n",
       "        [0.2500, 0.2500, 0.2500, 0.2500, 0.0000, 0.0000, 0.0000, 0.0000],\n",
       "        [0.2000, 0.2000, 0.2000, 0.2000, 0.2000, 0.0000, 0.0000, 0.0000],\n",
       "        [0.1667, 0.1667, 0.1667, 0.1667, 0.1667, 0.1667, 0.0000, 0.0000],\n",
       "        [0.1429, 0.1429, 0.1429, 0.1429, 0.1429, 0.1429, 0.1429, 0.0000],\n",
       "        [0.1250, 0.1250, 0.1250, 0.1250, 0.1250, 0.1250, 0.1250, 0.1250]])"
      ]
     },
     "execution_count": 33,
     "metadata": {},
     "output_type": "execute_result"
    }
   ],
   "source": [
    "wei"
   ]
  },
  {
   "cell_type": "code",
   "execution_count": 34,
   "metadata": {},
   "outputs": [
    {
     "data": {
      "text/plain": [
       "torch.Size([4, 8, 16])"
      ]
     },
     "execution_count": 34,
     "metadata": {},
     "output_type": "execute_result"
    }
   ],
   "source": [
    "# version 4: self-attention!\n",
    "torch.manual_seed(1337)\n",
    "B,T,C = 4,8,32 # batch, time, channels (channels is the embedding size)\n",
    "x = torch.randn(B,T,C)\n",
    "\n",
    "# let's see a single Head perform self-attention\n",
    "head_size = 16\n",
    "key = nn.Linear(C, head_size, bias=False) # W_K matrix\n",
    "query = nn.Linear(C, head_size, bias=False) # W_Q matrix\n",
    "value = nn.Linear(C, head_size, bias=False) # W_V matrix\n",
    "k = key(x)   # (B, T, 16) W_K x\n",
    "q = query(x) # (B, T, 16) W_Q x\n",
    "wei =  q @ k.transpose(-2, -1) # (B, T, 16) @ (B, 16, T) ---> (B, T, T)   \n",
    "\n",
    "tril = torch.tril(torch.ones(T, T)) \n",
    "#wei = torch.zeros((T,T))\n",
    "wei = wei.masked_fill(tril == 0, float('-inf')) # mask the weight matrix so that we can't pay attention to future tokens\n",
    "wei = F.softmax(wei, dim=-1)\n",
    "\n",
    "v = value(x)\n",
    "out = wei @ v\n",
    "#out = wei @ x\n",
    "\n",
    "out.shape"
   ]
  },
  {
   "cell_type": "markdown",
   "metadata": {},
   "source": [
    "For regularization and to stabilize training, layer norm is used (instead of batch norm). Layer norm is the same as batch norm, except averages are taken over the sequence of tokens, not the batches."
   ]
  },
  {
   "cell_type": "code",
   "execution_count": 35,
   "metadata": {},
   "outputs": [
    {
     "data": {
      "text/plain": [
       "torch.Size([32, 100])"
      ]
     },
     "execution_count": 35,
     "metadata": {},
     "output_type": "execute_result"
    }
   ],
   "source": [
    "class LayerNorm1d:\n",
    "\n",
    "  def __init__(self, dim, eps=1e-5, momentum=0.1):\n",
    "    self.eps = eps\n",
    "    self.gamma = torch.ones(dim)\n",
    "    self.beta = torch.zeros(dim)\n",
    "\n",
    "  def __call__(self, x):\n",
    "    # calculate the forward pass\n",
    "    xmean = x.mean(1, keepdim=True) # sequence mean (in batch norm, axis=0 instead)\n",
    "    xvar = x.var(1, keepdim=True) # sequence variance (in batch norm, axis=0 instead)\n",
    "    xhat = (x - xmean) / torch.sqrt(xvar + self.eps) # normalize to unit variance\n",
    "    self.out = self.gamma * xhat + self.beta\n",
    "    return self.out\n",
    "\n",
    "  def parameters(self):\n",
    "    return [self.gamma, self.beta]\n",
    "\n",
    "torch.manual_seed(1337)\n",
    "module = LayerNorm1d(100)\n",
    "x = torch.randn(32, 100) # batch size 32 of 100-dimensional vectors\n",
    "x = module(x)\n",
    "x.shape"
   ]
  },
  {
   "cell_type": "markdown",
   "metadata": {},
   "source": [
    "## Transformer\n",
    "\n",
    "[Here](gpt.qmd) is a small GPT model from Andrej Karpathy."
   ]
  },
  {
   "cell_type": "markdown",
   "metadata": {},
   "source": [
    "## Tokenization\n",
    "\n",
    "Tokenization is the process of turning text into discrete units (called tokens).  We saw we could map letters to numbers as we did with Tiny Shakespeare. However, this can be very inefficient.\n",
    "\n",
    "Many modern tokenizers use an algorithm such as byte pair encoding that greedily merges commonly occurring sub-strings based on their frequency."
   ]
  },
  {
   "cell_type": "markdown",
   "metadata": {},
   "source": [
    "Understanding Deep Learning, Figure 12.8\n",
    "\n",
    "![Understanding Deep Learning](fig/udl-12-8.jpg)"
   ]
  },
  {
   "cell_type": "markdown",
   "metadata": {},
   "source": [
    "[TikTokenizer](https://tiktokenizer.vercel.app/?model=google%2Fgemma-7b) is a nice tool to see how LLMs encode text into tokens:\n",
    "\n",
    "```\n",
    "Tokenization is at the heart of much weirdness of LLMs. \n",
    "\n",
    "127 + 456 = 583\n",
    "\n",
    "Apple.\n",
    "I have an apple.\n",
    "apple.\n",
    "Apple.\n",
    "\n",
    "for i in range(1, 101):\n",
    "    if i % 2 == 0:\n",
    "        print(\"hello world\")\n",
    "```"
   ]
  },
  {
   "cell_type": "markdown",
   "metadata": {},
   "source": [
    "## Finetuning\n",
    "\n",
    "We now look at finetuning a language representation model called DistilBERT (Sanh et al. 2019) [[arXiv](https://arxiv.org/abs/1910.01108)].\n",
    "\n",
    "DistilBERT is a 40% smaller, distilled version of BERT, which retains 97% of the original BERT model capabilities."
   ]
  },
  {
   "cell_type": "markdown",
   "metadata": {},
   "source": [
    "We can obtain pretrained models from [Hugging Face](https://huggingface.co/docs/transformers/en/model_doc/distilbert).\n",
    "\n",
    "We need to install Hugging Face's transformers package:\n",
    "\n",
    "```{.bash}\n",
    "pip install transformers\n",
    "```"
   ]
  },
  {
   "cell_type": "code",
   "execution_count": 37,
   "metadata": {},
   "outputs": [],
   "source": [
    "from transformers import AutoTokenizer, AutoModel\n",
    "from torch import nn\n",
    "import torch\n",
    "import pandas as pd\n",
    "import numpy as np\n",
    "import matplotlib.pyplot as plt"
   ]
  },
  {
   "cell_type": "markdown",
   "metadata": {},
   "source": [
    "Included also is the model tokenizer."
   ]
  },
  {
   "cell_type": "code",
   "execution_count": 38,
   "metadata": {},
   "outputs": [
    {
     "name": "stdout",
     "output_type": "stream",
     "text": [
      "tensor([[ 101, 7592, 2088,  102,    0,    0,    0,    0,    0,    0]])\n",
      "tensor([[1, 1, 1, 1, 0, 0, 0, 0, 0, 0]])\n",
      "[CLS] hello world [SEP] [PAD] [PAD] [PAD] [PAD] [PAD] [PAD]\n"
     ]
    }
   ],
   "source": [
    "tokenizer = AutoTokenizer.from_pretrained('distilbert-base-uncased')\n",
    "bert_model = AutoModel.from_pretrained(\"distilbert-base-uncased\")\n",
    "\n",
    "example_text = \"Hello world\"\n",
    "\n",
    "token_res = tokenizer(example_text, return_tensors='pt', max_length=10, padding='max_length') # pt is for pytorch tensors\n",
    "\n",
    "print(token_res['input_ids']) ## vector of token IDs\n",
    "print(token_res['attention_mask']) ## vector of 0/1 to indicate real tokens vs padding tokens\n",
    "\n",
    "out_text = tokenizer.decode(token_res['input_ids'][0])\n",
    "print(out_text)"
   ]
  },
  {
   "cell_type": "code",
   "execution_count": 39,
   "metadata": {},
   "outputs": [
    {
     "data": {
      "text/plain": [
       "768"
      ]
     },
     "execution_count": 39,
     "metadata": {},
     "output_type": "execute_result"
    }
   ],
   "source": [
    "bert_model.config.hidden_size"
   ]
  },
  {
   "cell_type": "markdown",
   "metadata": {},
   "source": [
    "### Wine dataset\n",
    "\n",
    "We will finetune a wine dataset to predict *price* based on the wine *description*.\n",
    "\n",
    "The dataset has 120K wines."
   ]
  },
  {
   "cell_type": "code",
   "execution_count": null,
   "metadata": {},
   "outputs": [
    {
     "name": "stdout",
     "output_type": "stream",
     "text": [
      "(120975, 14)\n",
      "Description:  This is ripe and fruity, a wine that is smooth while still structured. Firm tannins are filled out with juicy red berry fruits and freshened with acidity. It's  already drinkable, although it will certainly be better from 2016.\n",
      "Price:  15.0\n",
      "Description:  Tart and snappy, the flavors of lime flesh and rind dominate. Some green pineapple pokes through, with crisp acidity underscoring the flavors. The wine was all stainless-steel fermented.\n",
      "Price:  14.0\n",
      "Description:  Pineapple rind, lemon pith and orange blossom start off the aromas. The palate is a bit more opulent, with notes of honey-drizzled guava and mango giving way to a slightly astringent, semidry finish.\n",
      "Price:  13.0\n",
      "Most expensive wine:  This ripe wine shows plenty of blackberry fruits balanced well with some dry tannins. It is fresh, juicy with plenty of acidity, For a light vintage, it's perfumed, full of fresh flavors and will be ready to drink from 2017.\n",
      "Price:  3300.0\n"
     ]
    },
    {
     "data": {
      "text/plain": [
       "{'whiskers': [<matplotlib.lines.Line2D at 0x34ea5d6d0>,\n",
       "  <matplotlib.lines.Line2D at 0x34e9eb4d0>],\n",
       " 'caps': [<matplotlib.lines.Line2D at 0x34e9e91d0>,\n",
       "  <matplotlib.lines.Line2D at 0x34e9e8e10>],\n",
       " 'boxes': [<matplotlib.lines.Line2D at 0x34ee4f890>],\n",
       " 'medians': [<matplotlib.lines.Line2D at 0x34e9bfed0>],\n",
       " 'fliers': [<matplotlib.lines.Line2D at 0x34e9bd6d0>],\n",
       " 'means': []}"
      ]
     },
     "execution_count": 40,
     "metadata": {},
     "output_type": "execute_result"
    },
    {
     "data": {
      "image/png": "[encoded data removed]",
      "text/plain": [
       "<Figure size 640x480 with 1 Axes>"
      ]
     },
     "metadata": {},
     "output_type": "display_data"
    }
   ],
   "source": [
    "wine_df = pd.read_csv(\"data/wines.csv\")\n",
    "\n",
    "## keep only wines whose price is not NaN\n",
    "wine_df = wine_df[wine_df['price'].notna()]\n",
    "\n",
    "print(wine_df.shape)\n",
    "\n",
    "## key variables: price, description\n",
    "for i in range(3):\n",
    "    print(\"Description: \", wine_df['description'].iloc[i])\n",
    "    print(\"Price: \", wine_df['price'].iloc[i])\n",
    "\n",
    "## find the wine with the highest price\n",
    "max_price_idx = wine_df['price'].argmax()\n",
    "print(\"Most expensive wine: \", wine_df['description'].iloc[max_price_idx])\n",
    "print(\"Price: \", wine_df['price'].iloc[max_price_idx])\n",
    "\n",
    "## make box-plot of prices\n",
    "plt.boxplot(np.log(wine_df['price']))\n"
   ]
  },
  {
   "cell_type": "code",
   "execution_count": 41,
   "metadata": {},
   "outputs": [],
   "source": [
    "class textClassDataset(torch.utils.data.Dataset):\n",
    "    def __init__(self, df, tokenizer, max_len):\n",
    "        self.tokenizer = tokenizer\n",
    "        self.max_len = max_len\n",
    "\n",
    "        self.tokens = tokenizer(df['description'].tolist(), return_tensors='pt', max_length=self.max_len, \n",
    "                                      padding='max_length', truncation=True) \n",
    "        self.price = torch.tensor(df['price'].to_numpy(), dtype=torch.float)\n",
    "\n",
    "    def __len__(self):\n",
    "        return len(self.price)\n",
    "    \n",
    "    def __getitem__(self, idx):\n",
    "        \n",
    "        input_ids = self.tokens['input_ids'][idx]\n",
    "        attention_mask = self.tokens['attention_mask'][idx]\n",
    "        price = self.price[idx]\n",
    "\n",
    "        return input_ids, attention_mask, price"
   ]
  },
  {
   "cell_type": "code",
   "execution_count": 42,
   "metadata": {},
   "outputs": [
    {
     "name": "stdout",
     "output_type": "stream",
     "text": [
      "training data size: 60487\n"
     ]
    }
   ],
   "source": [
    "dataset = textClassDataset(wine_df, tokenizer, 128)\n",
    "\n",
    "## split into train and test datasets\n",
    "train_size = int(0.5 * len(dataset))\n",
    "test_size = len(dataset) - train_size\n",
    "\n",
    "train_dataset, test_dataset = torch.utils.data.random_split(dataset, [train_size, test_size])\n",
    "\n",
    "print(\"training data size: \" + str(len(train_dataset)))\n",
    "\n",
    "## create dataloaders\n",
    "train_dataloader = torch.utils.data.DataLoader(train_dataset, batch_size=100, shuffle=True)"
   ]
  },
  {
   "cell_type": "code",
   "execution_count": 43,
   "metadata": {},
   "outputs": [],
   "source": [
    "batch = next(iter(train_dataloader))"
   ]
  },
  {
   "cell_type": "code",
   "execution_count": 44,
   "metadata": {},
   "outputs": [],
   "source": [
    "class BertRegressor(nn.Module):\n",
    "    def __init__(self):\n",
    "        super(BertRegressor, self).__init__()\n",
    "        self.bert = bert_model\n",
    "\n",
    "        ## for distilbert-base-uncased, hidden_size is 768\n",
    "        self.layer1 = nn.Linear(self.bert.config.hidden_size, 1)\n",
    "\n",
    "    def forward(self, input_ids, attention_mask):\n",
    "        bert_outputs = self.bert(input_ids=input_ids, attention_mask=attention_mask)\n",
    "        pooled_output = bert_outputs[0][:, 0, :] # [CLS] token1 token2 ... this grabs [CLS] token\n",
    "\n",
    "        x = self.layer1(pooled_output)\n",
    "        x = x.squeeze(1)\n",
    "        return x\n",
    "    "
   ]
  },
  {
   "cell_type": "code",
   "execution_count": 45,
   "metadata": {},
   "outputs": [],
   "source": [
    "model = BertRegressor()"
   ]
  },
  {
   "cell_type": "code",
   "execution_count": null,
   "metadata": {},
   "outputs": [],
   "source": [
    "## We can freeze bert parameters so that we only update the\n",
    "## prediction head\n",
    "# for param in model.bert.parameters():\n",
    "#     param.requires_grad = False\n",
    "\n",
    "loss_fn = nn.MSELoss()\n",
    "optimizer = torch.optim.Adam(filter(lambda p: p.requires_grad, model.parameters()), \n",
    "                             lr=1e-4)\n",
    "\n",
    "num_epochs = 1\n",
    "\n",
    "model.train()"
   ]
  },
  {
   "cell_type": "markdown",
   "metadata": {},
   "source": [
    "#### Training\n",
    "\n",
    "* 1 epoch of training takes about 20 mins.\n",
    "* You can skip the training to directly load from the saved model parameter file."
   ]
  },
  {
   "cell_type": "code",
   "execution_count": null,
   "metadata": {},
   "outputs": [],
   "source": [
    "it = 0\n",
    "\n",
    "for epoch in range(num_epochs):\n",
    "\n",
    "    for batch in train_dataloader:\n",
    "\n",
    "        input_ids = batch[0]\n",
    "        attention_mask = batch[1]\n",
    "        logprice = np.log(batch[2])\n",
    "\n",
    "        pred = model(input_ids, attention_mask)\n",
    "        loss = loss_fn(pred, logprice)\n",
    "        loss.backward()\n",
    "        optimizer.step()\n",
    "\n",
    "        optimizer.zero_grad()\n",
    "        \n",
    "        it = it + 1\n",
    "        if (it % 100 == 0):\n",
    "            print(\"epoch: \", epoch, \"sgd iter: \" + str(it))\n",
    "    print(\"Epoch: {}, Loss: {}\".format(epoch, loss.item()))"
   ]
  },
  {
   "cell_type": "code",
   "execution_count": null,
   "metadata": {},
   "outputs": [],
   "source": [
    "## save model parameters\n",
    "torch.save(model.state_dict(), \"fine-tuned-distilbert.pt\")"
   ]
  },
  {
   "cell_type": "code",
   "execution_count": null,
   "metadata": {},
   "outputs": [
    {
     "data": {
      "text/plain": [
       "<All keys matched successfully>"
      ]
     },
     "execution_count": 46,
     "metadata": {},
     "output_type": "execute_result"
    }
   ],
   "source": [
    "## load model\n",
    "model.load_state_dict(torch.load(\"model/fine-tuned-distilbert.pt\"))"
   ]
  },
  {
   "cell_type": "code",
   "execution_count": 47,
   "metadata": {},
   "outputs": [
    {
     "name": "stderr",
     "output_type": "stream",
     "text": [
      "/var/folders/f0/m7l23y8s7p3_0x04b3td9nyjr2hyc8/T/ipykernel_6343/1264298161.py:9: DeprecationWarning: __array_wrap__ must accept context and return_scalar arguments (positionally) in the future. (Deprecated NumPy 2.0)\n",
      "  y_test = np.array([np.log(test_dataset[i][2]) for i in range(n_test)])\n"
     ]
    },
    {
     "name": "stdout",
     "output_type": "stream",
     "text": [
      "MSE: 0.21289405226707458   Test R-squared: 0.4635502\n"
     ]
    }
   ],
   "source": [
    "## calculate testing error\n",
    "## takes about 2 minutes to run\n",
    "\n",
    "model.eval()\n",
    "mse = 0\n",
    "\n",
    "n_test = 600\n",
    "\n",
    "y_test = np.array([np.log(test_dataset[i][2]) for i in range(n_test)])\n",
    "\n",
    "for i in range(n_test):\n",
    "    pred = model(test_dataset[i][0].unsqueeze(0), test_dataset[i][1].unsqueeze(0))\n",
    "    mse = mse + (pred - y_test[i])**2\n",
    "\n",
    "mse = mse / n_test\n",
    "\n",
    "print(\"MSE:\", mse.item(), \"  Test R-squared:\", 1 - mse.item() / np.var(y_test))"
   ]
  },
  {
   "cell_type": "code",
   "execution_count": 48,
   "metadata": {},
   "outputs": [
    {
     "name": "stdout",
     "output_type": "stream",
     "text": [
      "My Description: This white is both sour and bitter; it has a funny smell\n",
      "Predicted price:  15.726286888122559 \n",
      "\n",
      "My Description: the most amazing wine I have ever tasted\n",
      "Predicted price:  47.7934684753418 \n",
      "\n",
      "My Description: not bad at all; I would buy it again\n",
      "Predicted price:  12.506088256835938 \n",
      "\n",
      "My Description: actually quite bad; avoid if possible\n",
      "Predicted price:  14.870586395263672 \n",
      "\n",
      "My Description: great red and pretty cheap\n",
      "Predicted price:  12.206925392150879 \n",
      "\n",
      "My Description: great red but overpriced\n",
      "Predicted price:  24.468101501464844 \n",
      "\n",
      "My Description: great red and great price\n",
      "Predicted price:  12.49232006072998 \n",
      "\n"
     ]
    }
   ],
   "source": [
    "## \n",
    "\n",
    "my_reviews = [\"This white is both sour and bitter; it has a funny smell\",\n",
    "                \"the most amazing wine I have ever tasted\",\n",
    "                \"not bad at all; I would buy it again\",\n",
    "                \"actually quite bad; avoid if possible\",\n",
    "                \"great red and pretty cheap\",\n",
    "                \"great red but overpriced\",\n",
    "                \"great red and great price\"]\n",
    "\n",
    "for my_review in my_reviews:\n",
    "\n",
    "    token_res = tokenizer(my_review, return_tensors='pt')\n",
    "\n",
    "    pred = model(token_res['input_ids'], token_res['attention_mask'])\n",
    "    \n",
    "    print(\"My Description:\", my_review)\n",
    "    print(\"Predicted price: \", torch.exp(pred).item(), '\\n')"
   ]
  },
  {
   "cell_type": "markdown",
   "metadata": {},
   "source": [
    "## Resources \n",
    "\n",
    "- [Text Classification with BERT](https://medium.com/@khang.pham.exxact/text-classification-with-bert-7afaacc5e49b)\n",
    "- [Hugging Face Tutorial](https://colab.research.google.com/drive/1pxc-ehTtnVM72-NViET_D2ZqOlpOi2LH?usp=sharing#scrollTo=SH_MAK-soD4F)"
   ]
  }
 ],
 "metadata": {
  "kernelspec": {
   "display_name": "msds534",
   "language": "python",
   "name": "python3"
  },
  "language_info": {
   "codemirror_mode": {
    "name": "ipython",
    "version": 3
   },
   "file_extension": ".py",
   "mimetype": "text/x-python",
   "name": "python",
   "nbconvert_exporter": "python",
   "pygments_lexer": "ipython3",
   "version": "3.13.5"
  }
 },
 "nbformat": 4,
 "nbformat_minor": 2
}
